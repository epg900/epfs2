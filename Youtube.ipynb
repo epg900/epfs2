{
  "cells": [
    {
      "cell_type": "code",
      "source": [
        "# @title Youtube Viewer and Downloader\n",
        "vidurl = \"\" # @param {type:\"string\"}\n",
        "!pip install yt-dlp\n",
        "!yt-dlp -f 18 -o a.mp4 {vidurl}\n",
        "!curl -F file=@\"a.mp4\" https://epfs2.eu.pythonanywhere.com/video > /dev/null\n",
        "from IPython.display import clear_output\n",
        "clear_output()\n",
        "print(\"https://epfs2.eu.pythonanywhere.com/p/vid.mp4\")"
      ],
      "metadata": {
        "id": "2SXKDt-0jhSv"
      },
      "execution_count": null,
      "outputs": []
    }
  ],
  "metadata": {
    "colab": {
      "name": "Welcome To Colab",
      "provenance": []
    },
    "kernelspec": {
      "display_name": "Python 3",
      "name": "python3"
    }
  },
  "nbformat": 4,
  "nbformat_minor": 0
}
