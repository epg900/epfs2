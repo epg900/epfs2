{
  "cells": [
    {
      "cell_type": "code",
      "source": [
        "# @title Run epfs2 server\n",
        "from IPython.display import clear_output\n",
        "%cd /content\n",
        "!rm -r epfs2\n",
        "!git clone https://github.com/epg900/epfs2.git\n",
        "!sed -i -e \"s/\\/storage\\/emulated\\/0\\/Download/\\/content/\" epfs2/server.py\n",
        "from threading import Timer\n",
        "%cd epfs2\n",
        "!ssh-keygen -t rsa -f ~/.ssh/id_rsa <<< y\n",
        "def serve():\n",
        "  !ssh srv.us -R 1:localhost:5000 -o StrictHostKeyChecking=no\n",
        "t = Timer(5,serve)\n",
        "t.start()\n",
        "clear_output()\n",
        "!python server.py"
      ],
      "metadata": {
        "cellView": "form",
        "id": "ExFwqCxWR0M1"
      },
      "execution_count": null,
      "outputs": []
    },
    {
      "cell_type": "code",
      "source": [
        "# @title Youtube Viewer and Downloader\n",
        "vidurl = \"\" # @param {type:\"string\"}\n",
        "!pip install yt-dlp\n",
        "!rm vid.mp4\n",
        "!yt-dlp -f 18 -o vid.mp4 {vidurl}\n",
        "!curl -F file=@\"vid.mp4\" https://epfs2.eu.pythonanywhere.com/uploader > /dev/null\n",
        "from IPython.display import clear_output\n",
        "clear_output()\n",
        "print(\"https://epfs2.eu.pythonanywhere.com/vid.mp4\")\n",
        "import IPython\n",
        "display(IPython.display.Javascript(\"window.open('https://epfs2.eu.pythonanywhere.com/vid.mp4')\"))"
      ],
      "metadata": {
        "id": "2SXKDt-0jhSv",
        "cellView": "form"
      },
      "execution_count": null,
      "outputs": []
    },
    {
      "cell_type": "code",
      "source": [
        "# @title Copy Youtube video to Your Google Drive\n",
        "vidurl1 = \"\" # @param {type:\"string\"}\n",
        "!pip install yt-dlp\n",
        "!rm vid.mp4\n",
        "!yt-dlp -f 18 -o vid.mp4 {vidurl1}\n",
        "from google.colab import drive\n",
        "drive.mount('/content/drive')\n",
        "!cp vid.mp4 /content/drive/MyDrive"
      ],
      "metadata": {
        "id": "NjHJ7dPlhWyH",
        "cellView": "form"
      },
      "execution_count": null,
      "outputs": []
    },
    {
      "cell_type": "code",
      "source": [
        "# @title Download Video Comment\n",
        "!yt-dlp  --parse-metadata \"description:(?s)(?P<meta_comment>.+)\" https://www.youtube.com/watch?v=fCX6EezKMXg"
      ],
      "metadata": {
        "id": "a8viVGMXD5zn",
        "cellView": "form"
      },
      "execution_count": null,
      "outputs": []
    }
  ],
  "metadata": {
    "colab": {
      "name": "Welcome To Colab",
      "provenance": []
    },
    "kernelspec": {
      "display_name": "Python 3",
      "name": "python3"
    }
  },
  "nbformat": 4,
  "nbformat_minor": 0
}